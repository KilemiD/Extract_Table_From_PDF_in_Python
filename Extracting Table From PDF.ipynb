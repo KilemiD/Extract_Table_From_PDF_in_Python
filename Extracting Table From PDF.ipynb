{
 "cells": [
  {
   "cell_type": "code",
   "execution_count": 33,
   "id": "df404504-537f-405f-ba7b-815b35bcf11e",
   "metadata": {},
   "outputs": [
    {
     "ename": "SyntaxError",
     "evalue": "invalid syntax (<ipython-input-33-e4191d56eeae>, line 4)",
     "output_type": "error",
     "traceback": [
      "\u001b[1;36m  File \u001b[1;32m\"<ipython-input-33-e4191d56eeae>\"\u001b[1;36m, line \u001b[1;32m4\u001b[0m\n\u001b[1;33m    pip install --git+https://github.com/sat28/githubcommit.git\u001b[0m\n\u001b[1;37m        ^\u001b[0m\n\u001b[1;31mSyntaxError\u001b[0m\u001b[1;31m:\u001b[0m invalid syntax\n"
     ]
    }
   ],
   "source": [
    "#pip install --upgrade jupyterlab jupyterlab-git\n",
    "#alias pip=pip3\n",
    "\n",
    "pip install --git+https://github.com/sat28/githubcommit.git\n",
    "\n",
    "jupyter serverextension enable --py githubcommit\n",
    "\n",
    "jupyter nbextension install --py githubcommit --user\n",
    "\n",
    "jupyter nbextension enable githubcommit --user --py"
   ]
  },
  {
   "cell_type": "code",
   "execution_count": 4,
   "id": "a6aa164e",
   "metadata": {},
   "outputs": [],
   "source": [
    "#pip install tabula-py\n",
    "import tabula"
   ]
  },
  {
   "cell_type": "code",
   "execution_count": 7,
   "id": "2f2a0dcf",
   "metadata": {},
   "outputs": [],
   "source": [
    "pdf_path = \"gakii_mpesa.pdf\""
   ]
  },
  {
   "cell_type": "code",
   "execution_count": 8,
   "id": "a9c09bbc",
   "metadata": {},
   "outputs": [
    {
     "name": "stderr",
     "output_type": "stream",
     "text": [
      "Got stderr: Dec 24, 2023 1:13:29 PM org.apache.pdfbox.pdmodel.font.PDTrueTypeFont <init>\n",
      "WARNING: Using fallback font 'ArialMT' for 'DejaVuSans'\n",
      "Dec 24, 2023 1:13:33 PM org.apache.pdfbox.pdmodel.font.PDTrueTypeFont <init>\n",
      "WARNING: Using fallback font 'ArialMT' for 'DejaVuSans'\n",
      "\n"
     ]
    }
   ],
   "source": [
    "# Use tabula to extract tables from the PDF\n",
    "tables = tabula.read_pdf(pdf_path, pages='all')# Use tabula to extract tables from the PDF"
   ]
  },
  {
   "cell_type": "code",
   "execution_count": 12,
   "id": "0baf25d2",
   "metadata": {},
   "outputs": [
    {
     "data": {
      "text/plain": [
       "[Empty DataFrame\n",
       " Columns: [Unnamed: 0, Unnamed: 1]\n",
       " Index: []]"
      ]
     },
     "execution_count": 12,
     "metadata": {},
     "output_type": "execute_result"
    }
   ],
   "source": [
    "tables[:1]"
   ]
  },
  {
   "cell_type": "code",
   "execution_count": 13,
   "id": "ad702463",
   "metadata": {},
   "outputs": [],
   "source": [
    "import pandas as pd"
   ]
  },
  {
   "cell_type": "code",
   "execution_count": 14,
   "id": "6a5c1b59",
   "metadata": {},
   "outputs": [
    {
     "data": {
      "text/html": [
       "<div>\n",
       "<style scoped>\n",
       "    .dataframe tbody tr th:only-of-type {\n",
       "        vertical-align: middle;\n",
       "    }\n",
       "\n",
       "    .dataframe tbody tr th {\n",
       "        vertical-align: top;\n",
       "    }\n",
       "\n",
       "    .dataframe thead th {\n",
       "        text-align: right;\n",
       "    }\n",
       "</style>\n",
       "<table border=\"1\" class=\"dataframe\">\n",
       "  <thead>\n",
       "    <tr style=\"text-align: right;\">\n",
       "      <th></th>\n",
       "      <th>Receipt No.</th>\n",
       "      <th>Completion Time</th>\n",
       "      <th>Details</th>\n",
       "      <th>Transaction Status</th>\n",
       "      <th>Paid In</th>\n",
       "      <th>Withdrawn</th>\n",
       "      <th>Balance</th>\n",
       "      <th>Unnamed: 0</th>\n",
       "    </tr>\n",
       "  </thead>\n",
       "  <tbody>\n",
       "    <tr>\n",
       "      <th>0</th>\n",
       "      <td>RLA8RUF8QM</td>\n",
       "      <td>2023-12-10 17:09:01</td>\n",
       "      <td>Merchant Payment Online to\\r7142800 - Naivas  ...</td>\n",
       "      <td>Completed</td>\n",
       "      <td>NaN</td>\n",
       "      <td>-695.00</td>\n",
       "      <td>660.29</td>\n",
       "      <td>NaN</td>\n",
       "    </tr>\n",
       "    <tr>\n",
       "      <th>1</th>\n",
       "      <td>RLA7RP08WZ</td>\n",
       "      <td>2023-12-10 16:23:56</td>\n",
       "      <td>Merchant Payment Online to\\r703081 - WINPEN LTD</td>\n",
       "      <td>Completed</td>\n",
       "      <td>NaN</td>\n",
       "      <td>-5,500.00</td>\n",
       "      <td>1,355.29</td>\n",
       "      <td>NaN</td>\n",
       "    </tr>\n",
       "    <tr>\n",
       "      <th>2</th>\n",
       "      <td>RLA5RLKFRZ</td>\n",
       "      <td>2023-12-10 15:53:38</td>\n",
       "      <td>Business Payment from 329299 -\\rSTANDARD CHART...</td>\n",
       "      <td>Completed</td>\n",
       "      <td>5,000.00</td>\n",
       "      <td>NaN</td>\n",
       "      <td>6,855.29</td>\n",
       "      <td>NaN</td>\n",
       "    </tr>\n",
       "    <tr>\n",
       "      <th>3</th>\n",
       "      <td>RLA4QJGZ9E</td>\n",
       "      <td>2023-12-10 09:36:42</td>\n",
       "      <td>Customer Transfer of Funds\\rCharge</td>\n",
       "      <td>Completed</td>\n",
       "      <td>NaN</td>\n",
       "      <td>-7.00</td>\n",
       "      <td>1,955.29</td>\n",
       "      <td>NaN</td>\n",
       "    </tr>\n",
       "    <tr>\n",
       "      <th>4</th>\n",
       "      <td>RLA4QJGZ9E</td>\n",
       "      <td>2023-12-10 09:36:42</td>\n",
       "      <td>Customer Transfer to -\\r2547******779 JANET MW...</td>\n",
       "      <td>Completed</td>\n",
       "      <td>NaN</td>\n",
       "      <td>-500.00</td>\n",
       "      <td>1,962.29</td>\n",
       "      <td>NaN</td>\n",
       "    </tr>\n",
       "  </tbody>\n",
       "</table>\n",
       "</div>"
      ],
      "text/plain": [
       "  Receipt No.      Completion Time  \\\n",
       "0  RLA8RUF8QM  2023-12-10 17:09:01   \n",
       "1  RLA7RP08WZ  2023-12-10 16:23:56   \n",
       "2  RLA5RLKFRZ  2023-12-10 15:53:38   \n",
       "3  RLA4QJGZ9E  2023-12-10 09:36:42   \n",
       "4  RLA4QJGZ9E  2023-12-10 09:36:42   \n",
       "\n",
       "                                             Details Transaction Status  \\\n",
       "0  Merchant Payment Online to\\r7142800 - Naivas  ...          Completed   \n",
       "1    Merchant Payment Online to\\r703081 - WINPEN LTD          Completed   \n",
       "2  Business Payment from 329299 -\\rSTANDARD CHART...          Completed   \n",
       "3                 Customer Transfer of Funds\\rCharge          Completed   \n",
       "4  Customer Transfer to -\\r2547******779 JANET MW...          Completed   \n",
       "\n",
       "    Paid In  Withdrawn   Balance  Unnamed: 0  \n",
       "0       NaN    -695.00    660.29         NaN  \n",
       "1       NaN  -5,500.00  1,355.29         NaN  \n",
       "2  5,000.00        NaN  6,855.29         NaN  \n",
       "3       NaN      -7.00  1,955.29         NaN  \n",
       "4       NaN    -500.00  1,962.29         NaN  "
      ]
     },
     "execution_count": 14,
     "metadata": {},
     "output_type": "execute_result"
    }
   ],
   "source": [
    "sample_table=tables[2]\n",
    "sample_table.head()"
   ]
  },
  {
   "cell_type": "code",
   "execution_count": 15,
   "id": "189fdea0",
   "metadata": {},
   "outputs": [
    {
     "data": {
      "text/plain": [
       "8"
      ]
     },
     "execution_count": 15,
     "metadata": {},
     "output_type": "execute_result"
    }
   ],
   "source": [
    "tables[2].shape[1]"
   ]
  },
  {
   "cell_type": "code",
   "execution_count": 16,
   "id": "5068929b",
   "metadata": {},
   "outputs": [],
   "source": [
    "#I want to remove the tables I don't need using the number of columns\n",
    "# Specify the desired number of columns for the tables you need\n",
    "desired_num_columns = 8 "
   ]
  },
  {
   "cell_type": "code",
   "execution_count": 17,
   "id": "3683b76b",
   "metadata": {},
   "outputs": [],
   "source": [
    "#filter table based on the number of columns\n",
    "filtered_tables = []\n",
    "for i in range(len(tables)):\n",
    "        if tables[i].shape[1] == desired_num_columns:\n",
    "            filtered_tables.append(tables[i])"
   ]
  },
  {
   "cell_type": "code",
   "execution_count": 18,
   "id": "c2620000",
   "metadata": {},
   "outputs": [
    {
     "data": {
      "text/html": [
       "<div>\n",
       "<style scoped>\n",
       "    .dataframe tbody tr th:only-of-type {\n",
       "        vertical-align: middle;\n",
       "    }\n",
       "\n",
       "    .dataframe tbody tr th {\n",
       "        vertical-align: top;\n",
       "    }\n",
       "\n",
       "    .dataframe thead th {\n",
       "        text-align: right;\n",
       "    }\n",
       "</style>\n",
       "<table border=\"1\" class=\"dataframe\">\n",
       "  <thead>\n",
       "    <tr style=\"text-align: right;\">\n",
       "      <th></th>\n",
       "      <th>Receipt No.</th>\n",
       "      <th>Completion Time</th>\n",
       "      <th>Details</th>\n",
       "      <th>Transaction Status</th>\n",
       "      <th>Paid In</th>\n",
       "      <th>Withdrawn</th>\n",
       "      <th>Balance</th>\n",
       "      <th>Unnamed: 0</th>\n",
       "    </tr>\n",
       "  </thead>\n",
       "  <tbody>\n",
       "    <tr>\n",
       "      <th>0</th>\n",
       "      <td>RLA8RUF8QM</td>\n",
       "      <td>2023-12-10 17:09:01</td>\n",
       "      <td>Merchant Payment Online to\\r7142800 - Naivas  ...</td>\n",
       "      <td>Completed</td>\n",
       "      <td>NaN</td>\n",
       "      <td>-695.00</td>\n",
       "      <td>660.29</td>\n",
       "      <td>NaN</td>\n",
       "    </tr>\n",
       "    <tr>\n",
       "      <th>1</th>\n",
       "      <td>RLA7RP08WZ</td>\n",
       "      <td>2023-12-10 16:23:56</td>\n",
       "      <td>Merchant Payment Online to\\r703081 - WINPEN LTD</td>\n",
       "      <td>Completed</td>\n",
       "      <td>NaN</td>\n",
       "      <td>-5,500.00</td>\n",
       "      <td>1,355.29</td>\n",
       "      <td>NaN</td>\n",
       "    </tr>\n",
       "    <tr>\n",
       "      <th>2</th>\n",
       "      <td>RLA5RLKFRZ</td>\n",
       "      <td>2023-12-10 15:53:38</td>\n",
       "      <td>Business Payment from 329299 -\\rSTANDARD CHART...</td>\n",
       "      <td>Completed</td>\n",
       "      <td>5,000.00</td>\n",
       "      <td>NaN</td>\n",
       "      <td>6,855.29</td>\n",
       "      <td>NaN</td>\n",
       "    </tr>\n",
       "    <tr>\n",
       "      <th>3</th>\n",
       "      <td>RLA4QJGZ9E</td>\n",
       "      <td>2023-12-10 09:36:42</td>\n",
       "      <td>Customer Transfer of Funds\\rCharge</td>\n",
       "      <td>Completed</td>\n",
       "      <td>NaN</td>\n",
       "      <td>-7.00</td>\n",
       "      <td>1,955.29</td>\n",
       "      <td>NaN</td>\n",
       "    </tr>\n",
       "    <tr>\n",
       "      <th>4</th>\n",
       "      <td>RLA4QJGZ9E</td>\n",
       "      <td>2023-12-10 09:36:42</td>\n",
       "      <td>Customer Transfer to -\\r2547******779 JANET MW...</td>\n",
       "      <td>Completed</td>\n",
       "      <td>NaN</td>\n",
       "      <td>-500.00</td>\n",
       "      <td>1,962.29</td>\n",
       "      <td>NaN</td>\n",
       "    </tr>\n",
       "  </tbody>\n",
       "</table>\n",
       "</div>"
      ],
      "text/plain": [
       "  Receipt No.      Completion Time  \\\n",
       "0  RLA8RUF8QM  2023-12-10 17:09:01   \n",
       "1  RLA7RP08WZ  2023-12-10 16:23:56   \n",
       "2  RLA5RLKFRZ  2023-12-10 15:53:38   \n",
       "3  RLA4QJGZ9E  2023-12-10 09:36:42   \n",
       "4  RLA4QJGZ9E  2023-12-10 09:36:42   \n",
       "\n",
       "                                             Details Transaction Status  \\\n",
       "0  Merchant Payment Online to\\r7142800 - Naivas  ...          Completed   \n",
       "1    Merchant Payment Online to\\r703081 - WINPEN LTD          Completed   \n",
       "2  Business Payment from 329299 -\\rSTANDARD CHART...          Completed   \n",
       "3                 Customer Transfer of Funds\\rCharge          Completed   \n",
       "4  Customer Transfer to -\\r2547******779 JANET MW...          Completed   \n",
       "\n",
       "    Paid In  Withdrawn   Balance  Unnamed: 0  \n",
       "0       NaN    -695.00    660.29         NaN  \n",
       "1       NaN  -5,500.00  1,355.29         NaN  \n",
       "2  5,000.00        NaN  6,855.29         NaN  \n",
       "3       NaN      -7.00  1,955.29         NaN  \n",
       "4       NaN    -500.00  1,962.29         NaN  "
      ]
     },
     "execution_count": 18,
     "metadata": {},
     "output_type": "execute_result"
    }
   ],
   "source": [
    "# Combine filtered tables into one data frame\n",
    "combined_filtered_df = pd.concat(filtered_tables, ignore_index=True)\n",
    "combined_filtered_df.head()"
   ]
  },
  {
   "cell_type": "code",
   "execution_count": 19,
   "id": "2c255230",
   "metadata": {},
   "outputs": [
    {
     "data": {
      "text/plain": [
       "(1616, 8)"
      ]
     },
     "execution_count": 19,
     "metadata": {},
     "output_type": "execute_result"
    }
   ],
   "source": [
    "combined_filtered_df.shape"
   ]
  },
  {
   "cell_type": "code",
   "execution_count": 20,
   "id": "cba1acb3",
   "metadata": {},
   "outputs": [],
   "source": [
    "combined_filtered_df.to_csv('gakii_mpesa_statement.csv',index=False)"
   ]
  },
  {
   "cell_type": "code",
   "execution_count": 21,
   "id": "eadd6de4",
   "metadata": {},
   "outputs": [],
   "source": [
    "#data cleaning and wrangling\n",
    "import copy\n",
    "df=combined_filtered_df"
   ]
  },
  {
   "cell_type": "code",
   "execution_count": 22,
   "id": "b57f429a",
   "metadata": {},
   "outputs": [],
   "source": [
    "#dropping the unnamed last column\n",
    "df.drop(columns='Unnamed: 0',inplace=True)"
   ]
  },
  {
   "cell_type": "code",
   "execution_count": 23,
   "id": "1c447932",
   "metadata": {},
   "outputs": [
    {
     "data": {
      "text/html": [
       "<div>\n",
       "<style scoped>\n",
       "    .dataframe tbody tr th:only-of-type {\n",
       "        vertical-align: middle;\n",
       "    }\n",
       "\n",
       "    .dataframe tbody tr th {\n",
       "        vertical-align: top;\n",
       "    }\n",
       "\n",
       "    .dataframe thead th {\n",
       "        text-align: right;\n",
       "    }\n",
       "</style>\n",
       "<table border=\"1\" class=\"dataframe\">\n",
       "  <thead>\n",
       "    <tr style=\"text-align: right;\">\n",
       "      <th></th>\n",
       "      <th>date</th>\n",
       "      <th>time</th>\n",
       "    </tr>\n",
       "  </thead>\n",
       "  <tbody>\n",
       "    <tr>\n",
       "      <th>0</th>\n",
       "      <td>2023-12-10</td>\n",
       "      <td>17:09:01</td>\n",
       "    </tr>\n",
       "    <tr>\n",
       "      <th>1</th>\n",
       "      <td>2023-12-10</td>\n",
       "      <td>16:23:56</td>\n",
       "    </tr>\n",
       "    <tr>\n",
       "      <th>2</th>\n",
       "      <td>2023-12-10</td>\n",
       "      <td>15:53:38</td>\n",
       "    </tr>\n",
       "    <tr>\n",
       "      <th>3</th>\n",
       "      <td>2023-12-10</td>\n",
       "      <td>09:36:42</td>\n",
       "    </tr>\n",
       "    <tr>\n",
       "      <th>4</th>\n",
       "      <td>2023-12-10</td>\n",
       "      <td>09:36:42</td>\n",
       "    </tr>\n",
       "  </tbody>\n",
       "</table>\n",
       "</div>"
      ],
      "text/plain": [
       "        date      time\n",
       "0 2023-12-10  17:09:01\n",
       "1 2023-12-10  16:23:56\n",
       "2 2023-12-10  15:53:38\n",
       "3 2023-12-10  09:36:42\n",
       "4 2023-12-10  09:36:42"
      ]
     },
     "execution_count": 23,
     "metadata": {},
     "output_type": "execute_result"
    }
   ],
   "source": [
    "#separating date Completion time into date and time\n",
    "d=df['Completion Time'].str.split(' ',expand=True)\n",
    "\n",
    "#labelling the new created object columns\n",
    "d.rename(columns={0:'date',1:'time'},inplace=True)\n",
    "\n",
    "#converting into date and time types\n",
    "d['date']=pd.to_datetime(d['date'],format='%Y-%m-%d')\n",
    "\n",
    "#converting time into a time object\n",
    "d['time']=pd.to_datetime(d['time'],format='%H:%M:%S')\n",
    "d['time']=d['time'].dt.time\n",
    "\n",
    "d.head()"
   ]
  },
  {
   "cell_type": "code",
   "execution_count": 24,
   "id": "d22a0495",
   "metadata": {},
   "outputs": [
    {
     "data": {
      "text/html": [
       "<div>\n",
       "<style scoped>\n",
       "    .dataframe tbody tr th:only-of-type {\n",
       "        vertical-align: middle;\n",
       "    }\n",
       "\n",
       "    .dataframe tbody tr th {\n",
       "        vertical-align: top;\n",
       "    }\n",
       "\n",
       "    .dataframe thead th {\n",
       "        text-align: right;\n",
       "    }\n",
       "</style>\n",
       "<table border=\"1\" class=\"dataframe\">\n",
       "  <thead>\n",
       "    <tr style=\"text-align: right;\">\n",
       "      <th></th>\n",
       "      <th>key_0</th>\n",
       "      <th>Receipt No.</th>\n",
       "      <th>Completion Time</th>\n",
       "      <th>Details</th>\n",
       "      <th>Transaction Status</th>\n",
       "      <th>Paid In</th>\n",
       "      <th>Withdrawn</th>\n",
       "      <th>Balance</th>\n",
       "      <th>date</th>\n",
       "      <th>time</th>\n",
       "    </tr>\n",
       "  </thead>\n",
       "  <tbody>\n",
       "    <tr>\n",
       "      <th>0</th>\n",
       "      <td>0</td>\n",
       "      <td>RLA8RUF8QM</td>\n",
       "      <td>2023-12-10 17:09:01</td>\n",
       "      <td>Merchant Payment Online to\\r7142800 - Naivas  ...</td>\n",
       "      <td>Completed</td>\n",
       "      <td>NaN</td>\n",
       "      <td>-695.00</td>\n",
       "      <td>660.29</td>\n",
       "      <td>2023-12-10</td>\n",
       "      <td>17:09:01</td>\n",
       "    </tr>\n",
       "    <tr>\n",
       "      <th>1</th>\n",
       "      <td>1</td>\n",
       "      <td>RLA7RP08WZ</td>\n",
       "      <td>2023-12-10 16:23:56</td>\n",
       "      <td>Merchant Payment Online to\\r703081 - WINPEN LTD</td>\n",
       "      <td>Completed</td>\n",
       "      <td>NaN</td>\n",
       "      <td>-5,500.00</td>\n",
       "      <td>1,355.29</td>\n",
       "      <td>2023-12-10</td>\n",
       "      <td>16:23:56</td>\n",
       "    </tr>\n",
       "    <tr>\n",
       "      <th>2</th>\n",
       "      <td>2</td>\n",
       "      <td>RLA5RLKFRZ</td>\n",
       "      <td>2023-12-10 15:53:38</td>\n",
       "      <td>Business Payment from 329299 -\\rSTANDARD CHART...</td>\n",
       "      <td>Completed</td>\n",
       "      <td>5,000.00</td>\n",
       "      <td>NaN</td>\n",
       "      <td>6,855.29</td>\n",
       "      <td>2023-12-10</td>\n",
       "      <td>15:53:38</td>\n",
       "    </tr>\n",
       "    <tr>\n",
       "      <th>3</th>\n",
       "      <td>3</td>\n",
       "      <td>RLA4QJGZ9E</td>\n",
       "      <td>2023-12-10 09:36:42</td>\n",
       "      <td>Customer Transfer of Funds\\rCharge</td>\n",
       "      <td>Completed</td>\n",
       "      <td>NaN</td>\n",
       "      <td>-7.00</td>\n",
       "      <td>1,955.29</td>\n",
       "      <td>2023-12-10</td>\n",
       "      <td>09:36:42</td>\n",
       "    </tr>\n",
       "    <tr>\n",
       "      <th>4</th>\n",
       "      <td>4</td>\n",
       "      <td>RLA4QJGZ9E</td>\n",
       "      <td>2023-12-10 09:36:42</td>\n",
       "      <td>Customer Transfer to -\\r2547******779 JANET MW...</td>\n",
       "      <td>Completed</td>\n",
       "      <td>NaN</td>\n",
       "      <td>-500.00</td>\n",
       "      <td>1,962.29</td>\n",
       "      <td>2023-12-10</td>\n",
       "      <td>09:36:42</td>\n",
       "    </tr>\n",
       "  </tbody>\n",
       "</table>\n",
       "</div>"
      ],
      "text/plain": [
       "   key_0 Receipt No.      Completion Time  \\\n",
       "0      0  RLA8RUF8QM  2023-12-10 17:09:01   \n",
       "1      1  RLA7RP08WZ  2023-12-10 16:23:56   \n",
       "2      2  RLA5RLKFRZ  2023-12-10 15:53:38   \n",
       "3      3  RLA4QJGZ9E  2023-12-10 09:36:42   \n",
       "4      4  RLA4QJGZ9E  2023-12-10 09:36:42   \n",
       "\n",
       "                                             Details Transaction Status  \\\n",
       "0  Merchant Payment Online to\\r7142800 - Naivas  ...          Completed   \n",
       "1    Merchant Payment Online to\\r703081 - WINPEN LTD          Completed   \n",
       "2  Business Payment from 329299 -\\rSTANDARD CHART...          Completed   \n",
       "3                 Customer Transfer of Funds\\rCharge          Completed   \n",
       "4  Customer Transfer to -\\r2547******779 JANET MW...          Completed   \n",
       "\n",
       "    Paid In  Withdrawn   Balance       date      time  \n",
       "0       NaN    -695.00    660.29 2023-12-10  17:09:01  \n",
       "1       NaN  -5,500.00  1,355.29 2023-12-10  16:23:56  \n",
       "2  5,000.00        NaN  6,855.29 2023-12-10  15:53:38  \n",
       "3       NaN      -7.00  1,955.29 2023-12-10  09:36:42  \n",
       "4       NaN    -500.00  1,962.29 2023-12-10  09:36:42  "
      ]
     },
     "execution_count": 24,
     "metadata": {},
     "output_type": "execute_result"
    }
   ],
   "source": [
    "#merging back to the original data set\n",
    "df=pd.merge(df,d,on=df.index)\n",
    "df.head()"
   ]
  },
  {
   "cell_type": "code",
   "execution_count": 25,
   "id": "22429b97",
   "metadata": {},
   "outputs": [
    {
     "data": {
      "text/plain": [
       "2022-09-26    18\n",
       "2023-05-30    17\n",
       "2023-07-15    16\n",
       "2022-08-01    16\n",
       "Name: date, dtype: int64"
      ]
     },
     "execution_count": 25,
     "metadata": {},
     "output_type": "execute_result"
    }
   ],
   "source": [
    "#try a summary of transactions per day\n",
    "transactions_per_day=df['date'].value_counts()\n",
    "transactions_per_day[:4]"
   ]
  },
  {
   "cell_type": "code",
   "execution_count": 26,
   "id": "6ee228c0",
   "metadata": {},
   "outputs": [
    {
     "data": {
      "image/png": "[encoded data removed]",
      "text/plain": [
       "<Figure size 1296x720 with 1 Axes>"
      ]
     },
     "metadata": {
      "needs_background": "light"
     },
     "output_type": "display_data"
    }
   ],
   "source": [
    "#next plot this as a line plot date versus number of transactions\n",
    "import matplotlib.pyplot as plt\n",
    "from datetime import datetime\n",
    "\n",
    "transactions_per_day=transactions_per_day.sort_index()\n",
    "\n",
    "plt.figure(figsize=(18,10))\n",
    "plt.plot(transactions_per_day.index,transactions_per_day.values,\n",
    "        linestyle='-',color='b')\n",
    "\n",
    "#format the x axis as dates\n",
    "#plt.gca().xaxis_data()\n",
    "\n",
    "#set labels and title\n",
    "plt.xlabel('Date')\n",
    "plt.ylabel('No of Transactions')\n",
    "plt.title('Transactions Per Day')\n",
    "\n",
    "#show the plot\n",
    "plt.show()"
   ]
  },
  {
   "cell_type": "code",
   "execution_count": 28,
   "id": "6c545c48",
   "metadata": {},
   "outputs": [
    {
     "data": {
      "text/html": [
       "<div>\n",
       "<style scoped>\n",
       "    .dataframe tbody tr th:only-of-type {\n",
       "        vertical-align: middle;\n",
       "    }\n",
       "\n",
       "    .dataframe tbody tr th {\n",
       "        vertical-align: top;\n",
       "    }\n",
       "\n",
       "    .dataframe thead th {\n",
       "        text-align: right;\n",
       "    }\n",
       "</style>\n",
       "<table border=\"1\" class=\"dataframe\">\n",
       "  <thead>\n",
       "    <tr style=\"text-align: right;\">\n",
       "      <th></th>\n",
       "      <th>key_0</th>\n",
       "      <th>Receipt No.</th>\n",
       "      <th>Completion Time</th>\n",
       "      <th>Details</th>\n",
       "      <th>Transaction Status</th>\n",
       "      <th>Paid In</th>\n",
       "      <th>Withdrawn</th>\n",
       "      <th>Balance</th>\n",
       "      <th>date</th>\n",
       "      <th>time</th>\n",
       "    </tr>\n",
       "  </thead>\n",
       "  <tbody>\n",
       "    <tr>\n",
       "      <th>0</th>\n",
       "      <td>0</td>\n",
       "      <td>RLA8RUF8QM</td>\n",
       "      <td>2023-12-10 17:09:01</td>\n",
       "      <td>Merchant Payment Online to\\r7142800 - Naivas  ...</td>\n",
       "      <td>Completed</td>\n",
       "      <td>NaN</td>\n",
       "      <td>-695.00</td>\n",
       "      <td>660.29</td>\n",
       "      <td>2023-12-10</td>\n",
       "      <td>17:09:01</td>\n",
       "    </tr>\n",
       "    <tr>\n",
       "      <th>1</th>\n",
       "      <td>1</td>\n",
       "      <td>RLA7RP08WZ</td>\n",
       "      <td>2023-12-10 16:23:56</td>\n",
       "      <td>Merchant Payment Online to\\r703081 - WINPEN LTD</td>\n",
       "      <td>Completed</td>\n",
       "      <td>NaN</td>\n",
       "      <td>-5,500.00</td>\n",
       "      <td>1,355.29</td>\n",
       "      <td>2023-12-10</td>\n",
       "      <td>16:23:56</td>\n",
       "    </tr>\n",
       "  </tbody>\n",
       "</table>\n",
       "</div>"
      ],
      "text/plain": [
       "   key_0 Receipt No.      Completion Time  \\\n",
       "0      0  RLA8RUF8QM  2023-12-10 17:09:01   \n",
       "1      1  RLA7RP08WZ  2023-12-10 16:23:56   \n",
       "\n",
       "                                             Details Transaction Status  \\\n",
       "0  Merchant Payment Online to\\r7142800 - Naivas  ...          Completed   \n",
       "1    Merchant Payment Online to\\r703081 - WINPEN LTD          Completed   \n",
       "\n",
       "  Paid In  Withdrawn   Balance       date      time  \n",
       "0     NaN    -695.00    660.29 2023-12-10  17:09:01  \n",
       "1     NaN  -5,500.00  1,355.29 2023-12-10  16:23:56  "
      ]
     },
     "execution_count": 28,
     "metadata": {},
     "output_type": "execute_result"
    }
   ],
   "source": [
    "df.head(2)"
   ]
  },
  {
   "cell_type": "code",
   "execution_count": null,
   "id": "7792fc16",
   "metadata": {},
   "outputs": [],
   "source": []
  },
  {
   "cell_type": "code",
   "execution_count": null,
   "id": "ce4013f3-7afd-4efd-8e51-1789b36f4a09",
   "metadata": {},
   "outputs": [],
   "source": []
  },
  {
   "cell_type": "code",
   "execution_count": null,
   "id": "eeaf73e7-6f10-4e1a-81fd-6a0ef5a63047",
   "metadata": {},
   "outputs": [],
   "source": []
  }
 ],
 "metadata": {
  "kernelspec": {
   "display_name": "Python 3",
   "language": "python",
   "name": "python3"
  },
  "language_info": {
   "codemirror_mode": {
    "name": "ipython",
    "version": 3
   },
   "file_extension": ".py",
   "mimetype": "text/x-python",
   "name": "python",
   "nbconvert_exporter": "python",
   "pygments_lexer": "ipython3",
   "version": "3.8.8"
  }
 },
 "nbformat": 4,
 "nbformat_minor": 5
}
